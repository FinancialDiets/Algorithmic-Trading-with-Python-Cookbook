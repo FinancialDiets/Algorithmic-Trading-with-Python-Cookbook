{
 "cells": [
  {
   "cell_type": "markdown",
   "id": "88073b76",
   "metadata": {},
   "source": [
    "## Fetching historic futures data with the OpenBB Platform"
   ]
  },
  {
   "cell_type": "code",
   "execution_count": 1,
   "id": "4f5b57eb",
   "metadata": {},
   "outputs": [],
   "source": [
    "import pandas as pd\n",
    "from IPython.display import display\n",
    "from openbb import obb"
   ]
  },
  {
   "cell_type": "code",
   "execution_count": 2,
   "id": "4e0461e6",
   "metadata": {},
   "outputs": [],
   "source": [
    "obb.user.preferences.output_type = \"dataframe\""
   ]
  },
  {
   "cell_type": "markdown",
   "id": "18b5af17",
   "metadata": {},
   "source": [
    "Fetches the futures curve data for the symbol \"VX\" and stores it in 'data'"
   ]
  },
  {
   "cell_type": "code",
   "execution_count": 3,
   "id": "1e1fe30e",
   "metadata": {},
   "outputs": [],
   "source": [
    "data = obb.derivatives.futures.curve(symbol=\"VX\")"
   ]
  },
  {
   "cell_type": "code",
   "execution_count": 4,
   "id": "d4ad18d0",
   "metadata": {},
   "outputs": [
    {
     "data": {
      "text/html": [
       "<div>\n",
       "<style scoped>\n",
       "    .dataframe tbody tr th:only-of-type {\n",
       "        vertical-align: middle;\n",
       "    }\n",
       "\n",
       "    .dataframe tbody tr th {\n",
       "        vertical-align: top;\n",
       "    }\n",
       "\n",
       "    .dataframe thead th {\n",
       "        text-align: right;\n",
       "    }\n",
       "</style>\n",
       "<table border=\"1\" class=\"dataframe\">\n",
       "  <thead>\n",
       "    <tr style=\"text-align: right;\">\n",
       "      <th></th>\n",
       "      <th>expiration</th>\n",
       "      <th>price</th>\n",
       "      <th>symbol</th>\n",
       "    </tr>\n",
       "  </thead>\n",
       "  <tbody>\n",
       "    <tr>\n",
       "      <th>0</th>\n",
       "      <td>2024-06-18</td>\n",
       "      <td>12.9549</td>\n",
       "      <td>VX/M4</td>\n",
       "    </tr>\n",
       "    <tr>\n",
       "      <th>1</th>\n",
       "      <td>2024-06-26</td>\n",
       "      <td>13.6000</td>\n",
       "      <td>VX26/M4</td>\n",
       "    </tr>\n",
       "    <tr>\n",
       "      <th>2</th>\n",
       "      <td>2024-07-03</td>\n",
       "      <td>14.2250</td>\n",
       "      <td>VX27/N4</td>\n",
       "    </tr>\n",
       "    <tr>\n",
       "      <th>3</th>\n",
       "      <td>2024-07-10</td>\n",
       "      <td>14.4750</td>\n",
       "      <td>VX28/N4</td>\n",
       "    </tr>\n",
       "    <tr>\n",
       "      <th>4</th>\n",
       "      <td>2024-07-17</td>\n",
       "      <td>14.4134</td>\n",
       "      <td>VX/N4</td>\n",
       "    </tr>\n",
       "    <tr>\n",
       "      <th>5</th>\n",
       "      <td>2024-07-24</td>\n",
       "      <td>14.9000</td>\n",
       "      <td>VX30/N4</td>\n",
       "    </tr>\n",
       "    <tr>\n",
       "      <th>6</th>\n",
       "      <td>2024-07-31</td>\n",
       "      <td>14.9000</td>\n",
       "      <td>VX31/N4</td>\n",
       "    </tr>\n",
       "    <tr>\n",
       "      <th>7</th>\n",
       "      <td>2024-08-21</td>\n",
       "      <td>15.2531</td>\n",
       "      <td>VX/Q4</td>\n",
       "    </tr>\n",
       "    <tr>\n",
       "      <th>8</th>\n",
       "      <td>2024-09-18</td>\n",
       "      <td>15.9165</td>\n",
       "      <td>VX/U4</td>\n",
       "    </tr>\n",
       "    <tr>\n",
       "      <th>9</th>\n",
       "      <td>2024-10-16</td>\n",
       "      <td>18.2537</td>\n",
       "      <td>VX/V4</td>\n",
       "    </tr>\n",
       "    <tr>\n",
       "      <th>10</th>\n",
       "      <td>2024-11-20</td>\n",
       "      <td>17.3684</td>\n",
       "      <td>VX/X4</td>\n",
       "    </tr>\n",
       "    <tr>\n",
       "      <th>11</th>\n",
       "      <td>2024-12-18</td>\n",
       "      <td>17.3599</td>\n",
       "      <td>VX/Z4</td>\n",
       "    </tr>\n",
       "    <tr>\n",
       "      <th>12</th>\n",
       "      <td>2025-01-22</td>\n",
       "      <td>17.9563</td>\n",
       "      <td>VX/F5</td>\n",
       "    </tr>\n",
       "    <tr>\n",
       "      <th>13</th>\n",
       "      <td>2025-02-19</td>\n",
       "      <td>18.2750</td>\n",
       "      <td>VX/G5</td>\n",
       "    </tr>\n",
       "  </tbody>\n",
       "</table>\n",
       "</div>"
      ],
      "text/plain": [
       "    expiration    price   symbol\n",
       "0   2024-06-18  12.9549    VX/M4\n",
       "1   2024-06-26  13.6000  VX26/M4\n",
       "2   2024-07-03  14.2250  VX27/N4\n",
       "3   2024-07-10  14.4750  VX28/N4\n",
       "4   2024-07-17  14.4134    VX/N4\n",
       "5   2024-07-24  14.9000  VX30/N4\n",
       "6   2024-07-31  14.9000  VX31/N4\n",
       "7   2024-08-21  15.2531    VX/Q4\n",
       "8   2024-09-18  15.9165    VX/U4\n",
       "9   2024-10-16  18.2537    VX/V4\n",
       "10  2024-11-20  17.3684    VX/X4\n",
       "11  2024-12-18  17.3599    VX/Z4\n",
       "12  2025-01-22  17.9563    VX/F5\n",
       "13  2025-02-19  18.2750    VX/G5"
      ]
     },
     "metadata": {},
     "output_type": "display_data"
    }
   ],
   "source": [
    "display(data)"
   ]
  },
  {
   "cell_type": "markdown",
   "id": "7fc20f7a",
   "metadata": {},
   "source": [
    "Converts the 'expiration' column to datetime format and sets it as the index of 'data'"
   ]
  },
  {
   "cell_type": "code",
   "execution_count": 5,
   "id": "9323a022",
   "metadata": {},
   "outputs": [],
   "source": [
    "data.index = pd.to_datetime(data.expiration)"
   ]
  },
  {
   "cell_type": "markdown",
   "id": "8bb849e2",
   "metadata": {},
   "source": [
    "Plots the data with the new datetime index"
   ]
  },
  {
   "cell_type": "code",
   "execution_count": 6,
   "id": "9c4ab255",
   "metadata": {},
   "outputs": [
    {
     "data": {
      "text/plain": [
       "<Axes: xlabel='expiration'>"
      ]
     },
     "execution_count": 6,
     "metadata": {},
     "output_type": "execute_result"
    },
    {
     "data": {
      "image/png": "[encoded data removed]",
      "text/plain": [
       "<Figure size 640x480 with 1 Axes>"
      ]
     },
     "metadata": {},
     "output_type": "display_data"
    }
   ],
   "source": [
    "data.plot()"
   ]
  },
  {
   "cell_type": "markdown",
   "id": "c78511c5",
   "metadata": {},
   "source": [
    "Fetches historical futures data for the symbol \"CL\" within the specified date range and stores it in 'data'"
   ]
  },
  {
   "cell_type": "code",
   "execution_count": 7,
   "id": "b6b1e46d",
   "metadata": {},
   "outputs": [],
   "source": [
    "data = obb.derivatives.futures.historical(\n",
    "    \"CL\", start_date=\"2020-01-01\", end_date=\"2022-12-31\"\n",
    ")"
   ]
  },
  {
   "cell_type": "code",
   "execution_count": 8,
   "id": "b39a30ab",
   "metadata": {},
   "outputs": [
    {
     "data": {
      "text/html": [
       "<div>\n",
       "<style scoped>\n",
       "    .dataframe tbody tr th:only-of-type {\n",
       "        vertical-align: middle;\n",
       "    }\n",
       "\n",
       "    .dataframe tbody tr th {\n",
       "        vertical-align: top;\n",
       "    }\n",
       "\n",
       "    .dataframe thead th {\n",
       "        text-align: right;\n",
       "    }\n",
       "</style>\n",
       "<table border=\"1\" class=\"dataframe\">\n",
       "  <thead>\n",
       "    <tr style=\"text-align: right;\">\n",
       "      <th></th>\n",
       "      <th>open</th>\n",
       "      <th>high</th>\n",
       "      <th>low</th>\n",
       "      <th>close</th>\n",
       "      <th>volume</th>\n",
       "    </tr>\n",
       "    <tr>\n",
       "      <th>date</th>\n",
       "      <th></th>\n",
       "      <th></th>\n",
       "      <th></th>\n",
       "      <th></th>\n",
       "      <th></th>\n",
       "    </tr>\n",
       "  </thead>\n",
       "  <tbody>\n",
       "    <tr>\n",
       "      <th>2000-08-23</th>\n",
       "      <td>31.950001</td>\n",
       "      <td>32.799999</td>\n",
       "      <td>31.950001</td>\n",
       "      <td>32.049999</td>\n",
       "      <td>79385.0</td>\n",
       "    </tr>\n",
       "    <tr>\n",
       "      <th>2000-08-24</th>\n",
       "      <td>31.900000</td>\n",
       "      <td>32.240002</td>\n",
       "      <td>31.400000</td>\n",
       "      <td>31.629999</td>\n",
       "      <td>72978.0</td>\n",
       "    </tr>\n",
       "    <tr>\n",
       "      <th>2000-08-25</th>\n",
       "      <td>31.700001</td>\n",
       "      <td>32.099998</td>\n",
       "      <td>31.320000</td>\n",
       "      <td>32.049999</td>\n",
       "      <td>44601.0</td>\n",
       "    </tr>\n",
       "    <tr>\n",
       "      <th>2000-08-28</th>\n",
       "      <td>32.040001</td>\n",
       "      <td>32.919998</td>\n",
       "      <td>31.860001</td>\n",
       "      <td>32.869999</td>\n",
       "      <td>46770.0</td>\n",
       "    </tr>\n",
       "    <tr>\n",
       "      <th>2000-08-29</th>\n",
       "      <td>32.820000</td>\n",
       "      <td>33.029999</td>\n",
       "      <td>32.560001</td>\n",
       "      <td>32.720001</td>\n",
       "      <td>49131.0</td>\n",
       "    </tr>\n",
       "    <tr>\n",
       "      <th>...</th>\n",
       "      <td>...</td>\n",
       "      <td>...</td>\n",
       "      <td>...</td>\n",
       "      <td>...</td>\n",
       "      <td>...</td>\n",
       "    </tr>\n",
       "    <tr>\n",
       "      <th>2024-06-10</th>\n",
       "      <td>75.349998</td>\n",
       "      <td>78.290001</td>\n",
       "      <td>75.230003</td>\n",
       "      <td>77.739998</td>\n",
       "      <td>280253.0</td>\n",
       "    </tr>\n",
       "    <tr>\n",
       "      <th>2024-06-11</th>\n",
       "      <td>78.120003</td>\n",
       "      <td>78.360001</td>\n",
       "      <td>77.220001</td>\n",
       "      <td>77.900002</td>\n",
       "      <td>314874.0</td>\n",
       "    </tr>\n",
       "    <tr>\n",
       "      <th>2024-06-12</th>\n",
       "      <td>78.220001</td>\n",
       "      <td>79.320000</td>\n",
       "      <td>77.879997</td>\n",
       "      <td>78.500000</td>\n",
       "      <td>322285.0</td>\n",
       "    </tr>\n",
       "    <tr>\n",
       "      <th>2024-06-13</th>\n",
       "      <td>78.370003</td>\n",
       "      <td>78.889999</td>\n",
       "      <td>77.669998</td>\n",
       "      <td>78.620003</td>\n",
       "      <td>307638.0</td>\n",
       "    </tr>\n",
       "    <tr>\n",
       "      <th>2024-06-14</th>\n",
       "      <td>77.959999</td>\n",
       "      <td>79.150002</td>\n",
       "      <td>77.730003</td>\n",
       "      <td>78.449997</td>\n",
       "      <td>307638.0</td>\n",
       "    </tr>\n",
       "  </tbody>\n",
       "</table>\n",
       "<p>5978 rows × 5 columns</p>\n",
       "</div>"
      ],
      "text/plain": [
       "                 open       high        low      close    volume\n",
       "date                                                            \n",
       "2000-08-23  31.950001  32.799999  31.950001  32.049999   79385.0\n",
       "2000-08-24  31.900000  32.240002  31.400000  31.629999   72978.0\n",
       "2000-08-25  31.700001  32.099998  31.320000  32.049999   44601.0\n",
       "2000-08-28  32.040001  32.919998  31.860001  32.869999   46770.0\n",
       "2000-08-29  32.820000  33.029999  32.560001  32.720001   49131.0\n",
       "...               ...        ...        ...        ...       ...\n",
       "2024-06-10  75.349998  78.290001  75.230003  77.739998  280253.0\n",
       "2024-06-11  78.120003  78.360001  77.220001  77.900002  314874.0\n",
       "2024-06-12  78.220001  79.320000  77.879997  78.500000  322285.0\n",
       "2024-06-13  78.370003  78.889999  77.669998  78.620003  307638.0\n",
       "2024-06-14  77.959999  79.150002  77.730003  78.449997  307638.0\n",
       "\n",
       "[5978 rows x 5 columns]"
      ]
     },
     "metadata": {},
     "output_type": "display_data"
    }
   ],
   "source": [
    "display(data)"
   ]
  },
  {
   "cell_type": "markdown",
   "id": "0988ab77",
   "metadata": {},
   "source": [
    "Defines a list of expiration dates for future contracts"
   ]
  },
  {
   "cell_type": "code",
   "execution_count": 9,
   "id": "c42f2ad7",
   "metadata": {},
   "outputs": [],
   "source": [
    "expirations = [\n",
    "    \"2024-12\",\n",
    "    \"2025-12\",\n",
    "    \"2026-12\",\n",
    "    \"2027-12\",\n",
    "    \"2028-12\",\n",
    "    \"2029-12\",\n",
    "    \"2030-12\",\n",
    "]"
   ]
  },
  {
   "cell_type": "markdown",
   "id": "92cc0ab8",
   "metadata": {},
   "source": [
    "Initializes an empty list to store individual contract data"
   ]
  },
  {
   "cell_type": "code",
   "execution_count": 10,
   "id": "d5ecb3c6",
   "metadata": {},
   "outputs": [],
   "source": [
    "contracts = []"
   ]
  },
  {
   "cell_type": "markdown",
   "id": "2e5eddd1",
   "metadata": {},
   "source": [
    "Iterates over each expiration date, fetching and renaming historical futures data for \"CL\", and appends it to 'contracts'"
   ]
  },
  {
   "cell_type": "code",
   "execution_count": 11,
   "id": "7ff1e042",
   "metadata": {},
   "outputs": [],
   "source": [
    "for expiration in expirations:\n",
    "    df = (\n",
    "        obb.derivatives.futures.historical(\n",
    "            symbol=\"CL\",\n",
    "            expiration=expiration,\n",
    "            start_date=\"2020-01-01\",\n",
    "            end_date=\"2022-12-31\",\n",
    "        )\n",
    "    ).rename(columns={\"close\": expiration})\n",
    "    contracts.append(df[expiration])"
   ]
  },
  {
   "cell_type": "markdown",
   "id": "bf3908a5",
   "metadata": {},
   "source": [
    "Combines the individual contract data into a single DataFrame, transposes it, and drops any rows with missing values"
   ]
  },
  {
   "cell_type": "code",
   "execution_count": 12,
   "id": "0ab1d8e2",
   "metadata": {},
   "outputs": [],
   "source": [
    "historical = pd.DataFrame(contracts).transpose().dropna()"
   ]
  },
  {
   "cell_type": "code",
   "execution_count": 13,
   "id": "cb92274c",
   "metadata": {},
   "outputs": [
    {
     "data": {
      "text/html": [
       "<div>\n",
       "<style scoped>\n",
       "    .dataframe tbody tr th:only-of-type {\n",
       "        vertical-align: middle;\n",
       "    }\n",
       "\n",
       "    .dataframe tbody tr th {\n",
       "        vertical-align: top;\n",
       "    }\n",
       "\n",
       "    .dataframe thead th {\n",
       "        text-align: right;\n",
       "    }\n",
       "</style>\n",
       "<table border=\"1\" class=\"dataframe\">\n",
       "  <thead>\n",
       "    <tr style=\"text-align: right;\">\n",
       "      <th></th>\n",
       "      <th>2024-12</th>\n",
       "      <th>2025-12</th>\n",
       "      <th>2026-12</th>\n",
       "      <th>2027-12</th>\n",
       "      <th>2028-12</th>\n",
       "      <th>2029-12</th>\n",
       "      <th>2030-12</th>\n",
       "    </tr>\n",
       "    <tr>\n",
       "      <th>date</th>\n",
       "      <th></th>\n",
       "      <th></th>\n",
       "      <th></th>\n",
       "      <th></th>\n",
       "      <th></th>\n",
       "      <th></th>\n",
       "      <th></th>\n",
       "    </tr>\n",
       "  </thead>\n",
       "  <tbody>\n",
       "    <tr>\n",
       "      <th>2020-01-24</th>\n",
       "      <td>50.139999</td>\n",
       "      <td>50.700001</td>\n",
       "      <td>51.560001</td>\n",
       "      <td>51.630001</td>\n",
       "      <td>51.630001</td>\n",
       "      <td>51.630001</td>\n",
       "      <td>51.630001</td>\n",
       "    </tr>\n",
       "    <tr>\n",
       "      <th>2020-01-27</th>\n",
       "      <td>50.599998</td>\n",
       "      <td>51.180000</td>\n",
       "      <td>51.049999</td>\n",
       "      <td>51.119999</td>\n",
       "      <td>51.119999</td>\n",
       "      <td>51.119999</td>\n",
       "      <td>51.119999</td>\n",
       "    </tr>\n",
       "    <tr>\n",
       "      <th>2020-01-28</th>\n",
       "      <td>50.779999</td>\n",
       "      <td>51.230000</td>\n",
       "      <td>51.549999</td>\n",
       "      <td>51.619999</td>\n",
       "      <td>51.619999</td>\n",
       "      <td>51.619999</td>\n",
       "      <td>51.619999</td>\n",
       "    </tr>\n",
       "    <tr>\n",
       "      <th>2020-01-29</th>\n",
       "      <td>50.639999</td>\n",
       "      <td>51.130001</td>\n",
       "      <td>51.599998</td>\n",
       "      <td>51.669998</td>\n",
       "      <td>51.669998</td>\n",
       "      <td>51.669998</td>\n",
       "      <td>51.669998</td>\n",
       "    </tr>\n",
       "    <tr>\n",
       "      <th>2020-01-30</th>\n",
       "      <td>50.910000</td>\n",
       "      <td>51.439999</td>\n",
       "      <td>51.490002</td>\n",
       "      <td>51.560001</td>\n",
       "      <td>51.560001</td>\n",
       "      <td>51.560001</td>\n",
       "      <td>51.560001</td>\n",
       "    </tr>\n",
       "    <tr>\n",
       "      <th>...</th>\n",
       "      <td>...</td>\n",
       "      <td>...</td>\n",
       "      <td>...</td>\n",
       "      <td>...</td>\n",
       "      <td>...</td>\n",
       "      <td>...</td>\n",
       "      <td>...</td>\n",
       "    </tr>\n",
       "    <tr>\n",
       "      <th>2024-06-10</th>\n",
       "      <td>75.169998</td>\n",
       "      <td>71.010002</td>\n",
       "      <td>68.230003</td>\n",
       "      <td>66.290001</td>\n",
       "      <td>64.949997</td>\n",
       "      <td>64.120003</td>\n",
       "      <td>63.549999</td>\n",
       "    </tr>\n",
       "    <tr>\n",
       "      <th>2024-06-11</th>\n",
       "      <td>75.489998</td>\n",
       "      <td>71.389999</td>\n",
       "      <td>68.650002</td>\n",
       "      <td>66.760002</td>\n",
       "      <td>65.430000</td>\n",
       "      <td>64.540001</td>\n",
       "      <td>63.970001</td>\n",
       "    </tr>\n",
       "    <tr>\n",
       "      <th>2024-06-12</th>\n",
       "      <td>76.040001</td>\n",
       "      <td>71.699997</td>\n",
       "      <td>68.820000</td>\n",
       "      <td>66.800003</td>\n",
       "      <td>65.400002</td>\n",
       "      <td>64.510002</td>\n",
       "      <td>63.939999</td>\n",
       "    </tr>\n",
       "    <tr>\n",
       "      <th>2024-06-13</th>\n",
       "      <td>76.250000</td>\n",
       "      <td>71.809998</td>\n",
       "      <td>68.849998</td>\n",
       "      <td>66.820000</td>\n",
       "      <td>65.410004</td>\n",
       "      <td>64.519997</td>\n",
       "      <td>63.950001</td>\n",
       "    </tr>\n",
       "    <tr>\n",
       "      <th>2024-06-14</th>\n",
       "      <td>75.870003</td>\n",
       "      <td>71.410004</td>\n",
       "      <td>68.510002</td>\n",
       "      <td>66.559998</td>\n",
       "      <td>65.230003</td>\n",
       "      <td>64.339996</td>\n",
       "      <td>63.770000</td>\n",
       "    </tr>\n",
       "  </tbody>\n",
       "</table>\n",
       "<p>1101 rows × 7 columns</p>\n",
       "</div>"
      ],
      "text/plain": [
       "              2024-12    2025-12    2026-12    2027-12    2028-12    2029-12  \\\n",
       "date                                                                           \n",
       "2020-01-24  50.139999  50.700001  51.560001  51.630001  51.630001  51.630001   \n",
       "2020-01-27  50.599998  51.180000  51.049999  51.119999  51.119999  51.119999   \n",
       "2020-01-28  50.779999  51.230000  51.549999  51.619999  51.619999  51.619999   \n",
       "2020-01-29  50.639999  51.130001  51.599998  51.669998  51.669998  51.669998   \n",
       "2020-01-30  50.910000  51.439999  51.490002  51.560001  51.560001  51.560001   \n",
       "...               ...        ...        ...        ...        ...        ...   \n",
       "2024-06-10  75.169998  71.010002  68.230003  66.290001  64.949997  64.120003   \n",
       "2024-06-11  75.489998  71.389999  68.650002  66.760002  65.430000  64.540001   \n",
       "2024-06-12  76.040001  71.699997  68.820000  66.800003  65.400002  64.510002   \n",
       "2024-06-13  76.250000  71.809998  68.849998  66.820000  65.410004  64.519997   \n",
       "2024-06-14  75.870003  71.410004  68.510002  66.559998  65.230003  64.339996   \n",
       "\n",
       "              2030-12  \n",
       "date                   \n",
       "2020-01-24  51.630001  \n",
       "2020-01-27  51.119999  \n",
       "2020-01-28  51.619999  \n",
       "2020-01-29  51.669998  \n",
       "2020-01-30  51.560001  \n",
       "...               ...  \n",
       "2024-06-10  63.549999  \n",
       "2024-06-11  63.970001  \n",
       "2024-06-12  63.939999  \n",
       "2024-06-13  63.950001  \n",
       "2024-06-14  63.770000  \n",
       "\n",
       "[1101 rows x 7 columns]"
      ]
     },
     "metadata": {},
     "output_type": "display_data"
    }
   ],
   "source": [
    "display(historical)"
   ]
  },
  {
   "cell_type": "markdown",
   "id": "006360a4",
   "metadata": {},
   "source": [
    "Plots the data for the most recent historical contract"
   ]
  },
  {
   "cell_type": "code",
   "execution_count": 14,
   "id": "825fc3ac",
   "metadata": {},
   "outputs": [
    {
     "data": {
      "text/plain": [
       "<Axes: >"
      ]
     },
     "execution_count": 14,
     "metadata": {},
     "output_type": "execute_result"
    },
    {
     "data": {
      "image/png": "[encoded data removed]",
      "text/plain": [
       "<Figure size 640x480 with 1 Axes>"
      ]
     },
     "metadata": {},
     "output_type": "display_data"
    }
   ],
   "source": [
    "historical.iloc[-1].plot()"
   ]
  },
  {
   "cell_type": "markdown",
   "id": "836773a2",
   "metadata": {},
   "source": [
    "**Jason Strimpel** is the founder of <a href='https://pyquantnews.com/'>PyQuant News</a> and co-founder of <a href='https://www.tradeblotter.io/'>Trade Blotter</a>. His career in algorithmic trading spans 20+ years. He previously traded for a Chicago-based hedge fund, was a risk manager at JPMorgan, and managed production risk technology for an energy derivatives trading firm in London. In Singapore, he served as APAC CIO for an agricultural trading firm and built the data science team for a global metals trading firm. Jason holds degrees in Finance and Economics and a Master's in Quantitative Finance from the Illinois Institute of Technology. His career spans America, Europe, and Asia. He shares his expertise through the <a href='https://pyquantnews.com/subscribe-to-the-pyquant-newsletter/'>PyQuant Newsletter</a>, social media, and has taught over 1,000+ algorithmic trading with Python in his popular course **<a href='https://gettingstartedwithpythonforquantfinance.com/'>Getting Started With Python for Quant Finance</a>**. All code is for educational purposes only. Nothing provided here is financial advise. Use at your own risk."
   ]
  },
  {
   "cell_type": "code",
   "execution_count": null,
   "id": "3ee373a5-d06f-49fb-98e5-bc8d3f32b568",
   "metadata": {},
   "outputs": [],
   "source": []
  }
 ],
 "metadata": {
  "jupytext": {
   "cell_metadata_filter": "-all",
   "main_language": "python",
   "notebook_metadata_filter": "-all"
  },
  "kernelspec": {
   "display_name": "Python 3 (ipykernel)",
   "language": "python",
   "name": "python3"
  },
  "language_info": {
   "codemirror_mode": {
    "name": "ipython",
    "version": 3
   },
   "file_extension": ".py",
   "mimetype": "text/x-python",
   "name": "python",
   "nbconvert_exporter": "python",
   "pygments_lexer": "ipython3",
   "version": "3.10.13"
  }
 },
 "nbformat": 4,
 "nbformat_minor": 5
}
